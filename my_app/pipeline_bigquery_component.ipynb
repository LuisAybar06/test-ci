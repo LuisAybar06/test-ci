{
 "cells": [
  {
   "cell_type": "code",
   "execution_count": 14,
   "id": "986b2274-ae2c-4555-bb8d-9d950f9869a1",
   "metadata": {},
   "outputs": [],
   "source": [
    "import kfp\n",
    "from google.cloud import aiplatform\n",
    "from typing import NamedTuple\n",
    "from kfp.v2 import dsl, compiler\n",
    "from kfp.v2.dsl import (Artifact, ClassificationMetrics, Input, Metrics, Output, component, Dataset)\n",
    "from google.cloud import storage\n",
    "from google_cloud_pipeline_components.v1.vertex_notification_email import VertexNotificationEmailOp\n",
    "import os\n",
    "\n",
    "from google_cloud_pipeline_components.v1 import bigquery as gcc_bq"
   ]
  },
  {
   "cell_type": "code",
   "execution_count": 12,
   "id": "07dff697-f937-422c-98e5-d13204f6ca53",
   "metadata": {
    "tags": []
   },
   "outputs": [],
   "source": [
    "PIPELINE_LABEL = os.getenv(\"PIPELINE_LABEL\", '{\"a\": \"a\", \"b\": \"b\"}')"
   ]
  },
  {
   "cell_type": "code",
   "execution_count": 4,
   "id": "60c46a6b-47d4-450a-bf22-a6f7e27ed307",
   "metadata": {
    "tags": []
   },
   "outputs": [],
   "source": [
    "PRC_TEST = os.getenv(\"PRC_COBRANZAS_GENERAR_HDCARTERA\", \"trim-odyssey-390415.github3.cencus_filter_by_age\")"
   ]
  },
  {
   "cell_type": "code",
   "execution_count": null,
   "id": "d089e8bc-e115-421a-b8d4-71e7764e6a53",
   "metadata": {
    "tags": []
   },
   "outputs": [],
   "source": [
    "QUERY_SP_1 = '''\n",
    "    DECLARE input_age INT64 DEFAULT ${input_age};\n",
    "    CALL `trim-odyssey-390415.github3.cencus_filter_by_age` (input_age); \n",
    "'''"
   ]
  },
  {
   "cell_type": "code",
   "execution_count": null,
   "id": "ea2dc8f0-7c42-4011-a380-fffb225eba71",
   "metadata": {
    "tags": []
   },
   "outputs": [],
   "source": [
    "def generate_query(query_text:str, **replacements) -> str:\n",
    "   from string import Template\n",
    "   query_base = Template(query_text).substitute(**replacements)  \n",
    "   return query_base"
   ]
  },
  {
   "cell_type": "code",
   "execution_count": 7,
   "id": "5a3c9c7e-728f-4876-9a20-6a716b5b30b1",
   "metadata": {
    "tags": []
   },
   "outputs": [],
   "source": [
    "def query_job_configuration(query:str, project:str, labels:dict, location:str=\"US\") -> dict:\n",
    "    query_job = {\n",
    "        \"project\": project,\n",
    "        \"labels\": labels,\n",
    "        \"query\":query,\n",
    "        \"location\": location\n",
    "    }\n",
    "    return query_job"
   ]
  },
  {
   "cell_type": "code",
   "execution_count": 8,
   "id": "2ef85c80-40a6-48c1-906c-f657cdfcb81a",
   "metadata": {},
   "outputs": [],
   "source": [
    "@component\n",
    "def error_op(msg: str):\n",
    "    raise(msg)"
   ]
  },
  {
   "cell_type": "code",
   "execution_count": 9,
   "id": "559afd52-909e-4c38-a4a6-676759b9b920",
   "metadata": {},
   "outputs": [],
   "source": [
    "@component(packages_to_install=[\"google-cloud-bigquery\"])\n",
    "def validate_data(\n",
    "    validate_table: str,\n",
    ") -> NamedTuple(\n",
    "    \"Outputs\",\n",
    "    [\n",
    "        (\"condition\", str)\n",
    "    ],\n",
    "):\n",
    "    from google.cloud import bigquery\n",
    "\n",
    "    client = bigquery.Client()\n",
    "\n",
    "    try:\n",
    "        client.get_table(validate_table)\n",
    "        condition = \"true\"\n",
    "    except Exception as e:\n",
    "        condition = \"false\"\n",
    "\n",
    "    return (condition,)"
   ]
  },
  {
   "cell_type": "code",
   "execution_count": null,
   "id": "22d6605f-8ca6-4287-bc46-7ad62a8cabd5",
   "metadata": {},
   "outputs": [],
   "source": [
    "@kfp.dsl.pipeline(\n",
    "    name=\"test\", \n",
    "    description=\"Pipeline de prueba\",\n",
    "    pipeline_root=\"gs://laybarm_bk/demo\"\n",
    ")\n",
    "\n",
    "def main_pipeline(\n",
    "    project: str,\n",
    "    validate_table: str,\n",
    "    input_age_input: int,\n",
    "    gcp_region: str = \"us-central1\",\n",
    "):\n",
    "    \n",
    "    notify_email_task = VertexNotificationEmailOp(recipients=[\"a.luisaybar@gmail.com\"])\n",
    "    notify_email_task.set_display_name('Notification Email')\n",
    "    \n",
    "    with dsl.ExitHandler(notify_email_task, name=\"Execute pipeline prediction\"):\n",
    "\n",
    "        validate_tables_job = validate_data(\n",
    "            validate_table = validate_table\n",
    "        )\n",
    "        validate_tables_job.set_display_name('Validate Data')\n",
    "\n",
    "        with dsl.Condition(\n",
    "            validate_tables_job.outputs['condition']==\"false\",\n",
    "            name=\"no-execute\",\n",
    "        ):\n",
    "            error_op(msg=\"No se logro validar las tablas de ingesta.\")\n",
    "\n",
    "\n",
    "        with dsl.Condition(\n",
    "            validate_tables_job.outputs['condition']==\"true\",\n",
    "            name=\"execute\",\n",
    "        ):\n",
    "              \n",
    "            query_prc_1 = generate_query(\n",
    "                QUERY_SP_1, \n",
    "                PRC_TEST=PRC_TEST, \n",
    "                input_age=input_age_input\n",
    "            )\n",
    "\n",
    "\n",
    "            query_prc_1_job = query_job_configuration(query_prc_1, project, PIPELINE_LABEL)\n",
    "\n",
    "            bq_prc_1_op = gcc_bq.BigqueryQueryJobOp(**query_prc_1_job)\n",
    "            bq_prc_1_op.set_display_name(\"PRC_COBRANZAS_GENERAR_HDCARTERA\")"
   ]
  },
  {
   "cell_type": "code",
   "execution_count": 18,
   "id": "9a09581f-2348-45b5-8533-225e3d04d95e",
   "metadata": {},
   "outputs": [],
   "source": [
    "compiler.Compiler().compile(\n",
    "    pipeline_func=main_pipeline,\n",
    "    package_path=\"pipeline_bigquery.json\"\n",
    ")"
   ]
  },
  {
   "cell_type": "code",
   "execution_count": 19,
   "id": "6dd4e0a1-9ca9-4a10-964d-a2a9469af54e",
   "metadata": {},
   "outputs": [
    {
     "name": "stdout",
     "output_type": "stream",
     "text": [
      "Archivo pipeline_bigquery.json subido a demo/pipeline_bigquery.json en el bucket laybarm_bk.\n"
     ]
    }
   ],
   "source": [
    "def upload_to_gcs(bucket_name, source_file_name, destination_blob_name):\n",
    "    storage_client = storage.Client()\n",
    "    bucket = storage_client.bucket(bucket_name)\n",
    "    blob = bucket.blob(destination_blob_name)\n",
    "    blob.upload_from_filename(source_file_name)\n",
    "    print(f\"Archivo {source_file_name} subido a {destination_blob_name} en el bucket {bucket_name}.\")\n",
    "\n",
    "# Define las variables\n",
    "bucket_name = \"laybarm_bk\"\n",
    "destination_blob_name = \"demo/pipeline_bigquery.json\"\n",
    "pipeline_file = \"pipeline_bigquery.json\"\n",
    "# Llamar a la función para subir el archivo\n",
    "upload_to_gcs(bucket_name, pipeline_file, destination_blob_name)"
   ]
  },
  {
   "cell_type": "code",
   "execution_count": 20,
   "id": "d30531d7-f798-420e-9cde-d8bd781deb10",
   "metadata": {},
   "outputs": [],
   "source": [
    "aiplatform.init(project=\"trim-odyssey-390415\", location=\"us-central1\")"
   ]
  },
  {
   "cell_type": "code",
   "execution_count": 22,
   "id": "717e7da3-41a5-4a91-b763-a36acfdc6c3d",
   "metadata": {},
   "outputs": [
    {
     "name": "stdout",
     "output_type": "stream",
     "text": [
      "submit pipeline job ...\n",
      "Creating PipelineJob\n",
      "PipelineJob created. Resource name: projects/668142834453/locations/us-central1/pipelineJobs/test-20250111061502\n",
      "To use this PipelineJob in another session:\n",
      "pipeline_job = aiplatform.PipelineJob.get('projects/668142834453/locations/us-central1/pipelineJobs/test-20250111061502')\n",
      "View Pipeline Job:\n",
      "https://console.cloud.google.com/vertex-ai/locations/us-central1/pipelines/runs/test-20250111061502?project=668142834453\n"
     ]
    }
   ],
   "source": [
    "job = aiplatform.PipelineJob(\n",
    "    display_name=\"bigquery test pipeline\",\n",
    "    template_path=\"gs://laybarm_bk/demo/pipeline_bigquery.json\",\n",
    "    enable_caching=False,\n",
    "    project=\"trim-odyssey-390415\",\n",
    "    location=\"us-central1\",\n",
    "    parameter_values={\"project\": \"trim-odyssey-390415\", \n",
    "                      \"validate_table\": \"trim-odyssey-390415.github3.census_by_age\",\n",
    "                      \"input_age_input\": 60\n",
    "                     }\n",
    "   \n",
    ")\n",
    "\n",
    "print('submit pipeline job ...')\n",
    "job.submit(service_account=\"mlops-process@trim-odyssey-390415.iam.gserviceaccount.com\")"
   ]
  },
  {
   "cell_type": "code",
   "execution_count": null,
   "id": "0a5d6c72-5906-4100-a3ff-0c883a8a9004",
   "metadata": {},
   "outputs": [],
   "source": []
  }
 ],
 "metadata": {
  "environment": {
   "kernel": "dev",
   "name": "workbench-notebooks.m126",
   "type": "gcloud",
   "uri": "us-docker.pkg.dev/deeplearning-platform-release/gcr.io/workbench-notebooks:m126"
  },
  "kernelspec": {
   "display_name": "dev",
   "language": "python",
   "name": "dev"
  },
  "language_info": {
   "codemirror_mode": {
    "name": "ipython",
    "version": 3
   },
   "file_extension": ".py",
   "mimetype": "text/x-python",
   "name": "python",
   "nbconvert_exporter": "python",
   "pygments_lexer": "ipython3",
   "version": "3.8.20"
  }
 },
 "nbformat": 4,
 "nbformat_minor": 5
}
